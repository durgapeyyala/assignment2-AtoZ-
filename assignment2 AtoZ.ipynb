{
 "cells": [
  {
   "cell_type": "code",
   "execution_count": 1,
   "id": "72931a4d",
   "metadata": {},
   "outputs": [
    {
     "name": "stdout",
     "output_type": "stream",
     "text": [
      "*****\n",
      "*   *\n",
      "*****\n",
      "*   *\n",
      "*   *\n"
     ]
    }
   ],
   "source": [
    "a=1\n",
    "while a<=5:\n",
    "    if a==1:\n",
    "        print(\"*****\")\n",
    "    elif a==2:\n",
    "        print(\"*   *\")\n",
    "    elif a==3:\n",
    "        print(\"*****\")\n",
    "    elif a==4:\n",
    "        print(\"*   *\")\n",
    "    elif a==5:\n",
    "        print(\"*   *\")\n",
    "    a=a+1"
   ]
  },
  {
   "cell_type": "code",
   "execution_count": 2,
   "id": "cbcfd7ef",
   "metadata": {},
   "outputs": [
    {
     "name": "stdout",
     "output_type": "stream",
     "text": [
      "*   *\n",
      "*      *\n",
      "*   *\n",
      "*      *\n",
      "*   *\n"
     ]
    }
   ],
   "source": [
    "a=1\n",
    "while a<=5:\n",
    "    if a==1:\n",
    "        print(\"*   *\")\n",
    "    elif a==2:\n",
    "        print(\"*      *\")\n",
    "    elif a==3:\n",
    "        print(\"*   *\")\n",
    "    elif a==4:\n",
    "        print(\"*      *\")\n",
    "    elif a==5:\n",
    "        print(\"*   *\")\n",
    "    a=a+1"
   ]
  },
  {
   "cell_type": "code",
   "execution_count": 3,
   "id": "5e3acfda",
   "metadata": {},
   "outputs": [
    {
     "name": "stdout",
     "output_type": "stream",
     "text": [
      "        *\n",
      "   *     \n",
      "*        \n",
      "*        \n",
      "*        \n",
      "   *     \n",
      "        *\n"
     ]
    }
   ],
   "source": [
    "a=1\n",
    "while a<=7:\n",
    "    if a==1:\n",
    "        print(\"        *\")\n",
    "    elif a==2:\n",
    "        print(\"   *     \")\n",
    "    elif a==3:\n",
    "        print(\"*        \")\n",
    "    elif a==4:\n",
    "        print(\"*        \")\n",
    "    elif a==5:\n",
    "        print(\"*        \")\n",
    "    elif a==6:\n",
    "        print(\"   *     \")\n",
    "    elif a==7:\n",
    "        print(\"        *\")\n",
    "    a=a+1"
   ]
  },
  {
   "cell_type": "code",
   "execution_count": 4,
   "id": "e72865cd",
   "metadata": {},
   "outputs": [
    {
     "name": "stdout",
     "output_type": "stream",
     "text": [
      "*  *     \n",
      "*    *   \n",
      "*     *  \n",
      "*    *   \n",
      "*  *     \n"
     ]
    }
   ],
   "source": [
    "a=1\n",
    "while a<=5:\n",
    "    if a==1:\n",
    "        print(\"*  *     \")\n",
    "    elif a==2:\n",
    "        print(\"*    *   \")\n",
    "    elif a==3:\n",
    "        print(\"*     *  \")\n",
    "    elif a==4:\n",
    "        print(\"*    *   \")\n",
    "    elif a==5:\n",
    "        print(\"*  *     \")\n",
    "    a=a+1"
   ]
  },
  {
   "cell_type": "code",
   "execution_count": 5,
   "id": "f67721f8",
   "metadata": {},
   "outputs": [
    {
     "name": "stdout",
     "output_type": "stream",
     "text": [
      "* * * * \n",
      "*       \n",
      "* * * * \n",
      "*       \n",
      "* * * * \n"
     ]
    }
   ],
   "source": [
    "a=1\n",
    "while a<=5:\n",
    "    if a==1:\n",
    "        print(\"* * * * \")\n",
    "    elif a==2:\n",
    "        print(\"*       \")\n",
    "    elif a==3:\n",
    "        print(\"* * * * \")\n",
    "    elif a==4:\n",
    "        print(\"*       \")\n",
    "    elif a==5:\n",
    "        print(\"* * * * \")\n",
    "    a=a+1"
   ]
  },
  {
   "cell_type": "code",
   "execution_count": 6,
   "id": "9bf79aeb",
   "metadata": {},
   "outputs": [
    {
     "name": "stdout",
     "output_type": "stream",
     "text": [
      "* * * * \n",
      "*       \n",
      "* * * * \n",
      "*       \n",
      "*       \n"
     ]
    }
   ],
   "source": [
    "a=1\n",
    "while a<=5:\n",
    "    if a==1:\n",
    "        print(\"* * * * \")\n",
    "    elif a==2:\n",
    "        print(\"*       \")\n",
    "    elif a==3:\n",
    "        print(\"* * * * \")\n",
    "    elif a==4:\n",
    "        print(\"*       \")\n",
    "    elif a==5:\n",
    "        print(\"*       \")\n",
    "    a=a+1"
   ]
  },
  {
   "cell_type": "code",
   "execution_count": 7,
   "id": "e6bf9568",
   "metadata": {},
   "outputs": [
    {
     "name": "stdout",
     "output_type": "stream",
     "text": [
      "*  *  *  *     \n",
      "*              \n",
      "*     *   *   *\n",
      "*     *       *\n",
      "*  *  *       *\n",
      "              *\n"
     ]
    }
   ],
   "source": [
    "a=1\n",
    "while a<=6:\n",
    "    if a==1:\n",
    "        print(\"*  *  *  *     \")\n",
    "    elif a==2:\n",
    "        print(\"*              \")\n",
    "    elif a==3:\n",
    "        print(\"*     *   *   *\")\n",
    "    elif a==4:\n",
    "        print(\"*     *       *\")\n",
    "    elif a==5:\n",
    "        print(\"*  *  *       *\")\n",
    "    elif a==6:\n",
    "        print(\"              *\")\n",
    "    a=a+1"
   ]
  },
  {
   "cell_type": "code",
   "execution_count": 8,
   "id": "c27580c0",
   "metadata": {},
   "outputs": [
    {
     "name": "stdout",
     "output_type": "stream",
     "text": [
      "*       *\n",
      "*       *\n",
      "* * * * *\n",
      "*       *\n",
      "*       *\n"
     ]
    }
   ],
   "source": [
    "a=1\n",
    "while a<=5:\n",
    "    if a==1:\n",
    "        print(\"*       *\")\n",
    "    elif a==2:\n",
    "        print(\"*       *\")\n",
    "    elif a==3:\n",
    "        print(\"* * * * *\")\n",
    "    elif a==4:\n",
    "        print(\"*       *\")\n",
    "    elif a==5:\n",
    "        print(\"*       *\")\n",
    "    a=a+1"
   ]
  },
  {
   "cell_type": "code",
   "execution_count": 9,
   "id": "6ae44d09",
   "metadata": {},
   "outputs": [
    {
     "name": "stdout",
     "output_type": "stream",
     "text": [
      "* * * * *\n",
      "    *    \n",
      "    *    \n",
      "    *    \n",
      "* * * * *\n"
     ]
    }
   ],
   "source": [
    "a=1\n",
    "while a<=5:\n",
    "    if a==1:\n",
    "        print(\"* * * * *\")\n",
    "    elif a==2:\n",
    "        print(\"    *    \")\n",
    "    elif a==3:\n",
    "        print(\"    *    \")\n",
    "    elif a==4:\n",
    "        print(\"    *    \")\n",
    "    elif a==5:\n",
    "        print(\"* * * * *\")\n",
    "    a=a+1"
   ]
  },
  {
   "cell_type": "code",
   "execution_count": 10,
   "id": "613c6d81",
   "metadata": {},
   "outputs": [
    {
     "name": "stdout",
     "output_type": "stream",
     "text": [
      "* * * * *\n",
      "    *    \n",
      "    *    \n",
      "    *    \n",
      "* * *    \n"
     ]
    }
   ],
   "source": [
    "a=1\n",
    "while a<=5:\n",
    "    if a==1:\n",
    "        print(\"* * * * *\")\n",
    "    elif a==2:\n",
    "        print(\"    *    \")\n",
    "    elif a==3:\n",
    "        print(\"    *    \")\n",
    "    elif a==4:\n",
    "        print(\"    *    \")\n",
    "    elif a==5:\n",
    "        print(\"* * *    \")\n",
    "    a=a+1"
   ]
  },
  {
   "cell_type": "code",
   "execution_count": 11,
   "id": "5ee44ded",
   "metadata": {},
   "outputs": [
    {
     "name": "stdout",
     "output_type": "stream",
     "text": [
      "*      *\n",
      "*    *  \n",
      "* *     \n",
      "*    *  \n",
      "*      *\n"
     ]
    }
   ],
   "source": [
    "a=1\n",
    "while a<=5:\n",
    "    if a==1:\n",
    "        print(\"*      *\")\n",
    "    elif a==2:\n",
    "        print(\"*    *  \")\n",
    "    elif a==3:\n",
    "        print(\"* *     \")\n",
    "    elif a==4:\n",
    "        print(\"*    *  \")\n",
    "    elif a==5:\n",
    "        print(\"*      *\")\n",
    "    a=a+1"
   ]
  },
  {
   "cell_type": "code",
   "execution_count": 12,
   "id": "607f195d",
   "metadata": {},
   "outputs": [
    {
     "name": "stdout",
     "output_type": "stream",
     "text": [
      "*          \n",
      "*          \n",
      "*          \n",
      "*          \n",
      "* *  *  *  \n"
     ]
    }
   ],
   "source": [
    "a=1\n",
    "while a<=5:\n",
    "    if a==1:\n",
    "        print(\"*          \")\n",
    "    elif a==2:\n",
    "        print(\"*          \")\n",
    "    elif a==3:\n",
    "        print(\"*          \")\n",
    "    elif a==4:\n",
    "        print(\"*          \")\n",
    "    elif a==5:\n",
    "        print(\"* *  *  *  \")\n",
    "    a=a+1"
   ]
  },
  {
   "cell_type": "code",
   "execution_count": 13,
   "id": "197c2023",
   "metadata": {},
   "outputs": [
    {
     "name": "stdout",
     "output_type": "stream",
     "text": [
      "*           *\n",
      "*  *     *  *\n",
      "*     *     *\n",
      "*           *\n",
      "*           *\n"
     ]
    }
   ],
   "source": [
    "a=1\n",
    "while a<=5:\n",
    "    if a==1:\n",
    "        print(\"*           *\")\n",
    "    elif a==2:\n",
    "        print(\"*  *     *  *\")\n",
    "    elif a==3:\n",
    "        print(\"*     *     *\")\n",
    "    elif a==4:\n",
    "        print(\"*           *\")\n",
    "    elif a==5:\n",
    "        print(\"*           *\")\n",
    "    a=a+1  "
   ]
  },
  {
   "cell_type": "code",
   "execution_count": 14,
   "id": "87474a68",
   "metadata": {},
   "outputs": [
    {
     "name": "stdout",
     "output_type": "stream",
     "text": [
      "*           *\n",
      "*  *        *\n",
      "*     *     *\n",
      "*        *  *\n",
      "*           *\n"
     ]
    }
   ],
   "source": [
    "a=1\n",
    "while a<=5:\n",
    "    if a==1:\n",
    "        print(\"*           *\")\n",
    "    elif a==2:\n",
    "        print(\"*  *        *\")\n",
    "    elif a==3:\n",
    "        print(\"*     *     *\")\n",
    "    elif a==4:\n",
    "        print(\"*        *  *\")\n",
    "    elif a==5:\n",
    "        print(\"*           *\")\n",
    "    a=a+1 "
   ]
  },
  {
   "cell_type": "code",
   "execution_count": 15,
   "id": "25ede474",
   "metadata": {},
   "outputs": [
    {
     "name": "stdout",
     "output_type": "stream",
     "text": [
      "*  *  *   *  *\n",
      "*            *\n",
      "*            *\n",
      "*            *\n",
      "*  *  *   *  *\n"
     ]
    }
   ],
   "source": [
    "a=1\n",
    "while a<=5:\n",
    "    if a==1:\n",
    "        print(\"*  *  *   *  *\")\n",
    "    elif a==2:\n",
    "        print(\"*            *\")\n",
    "    elif a==3:\n",
    "        print(\"*            *\")\n",
    "    elif a==4:\n",
    "        print(\"*            *\")\n",
    "    elif a==5:\n",
    "        print(\"*  *  *   *  *\")\n",
    "    a=a+1 "
   ]
  },
  {
   "cell_type": "code",
   "execution_count": 16,
   "id": "84654bb9",
   "metadata": {},
   "outputs": [
    {
     "name": "stdout",
     "output_type": "stream",
     "text": [
      "*  *  *   *  *\n",
      "*            *\n",
      "*  *  *   *  *\n",
      "*             \n",
      "*             \n"
     ]
    }
   ],
   "source": [
    "a=1\n",
    "while a<=5:\n",
    "    if a==1:\n",
    "        print(\"*  *  *   *  *\")\n",
    "    elif a==2:\n",
    "        print(\"*            *\")\n",
    "    elif a==3:\n",
    "        print(\"*  *  *   *  *\")\n",
    "    elif a==4:\n",
    "        print(\"*             \")\n",
    "    elif a==5:\n",
    "        print(\"*             \")\n",
    "    a=a+1 "
   ]
  },
  {
   "cell_type": "code",
   "execution_count": 17,
   "id": "92c898e5",
   "metadata": {},
   "outputs": [
    {
     "name": "stdout",
     "output_type": "stream",
     "text": [
      "   *  *   *    \n",
      "*             *\n",
      "*  *  *       *\n",
      "*         *   *\n",
      "  *   *    *    \n",
      "             *  *  *\n"
     ]
    }
   ],
   "source": [
    "a=1\n",
    "while a<=6:\n",
    "    if a==1:\n",
    "        print(\"   *  *   *    \")\n",
    "    elif a==2:\n",
    "        print(\"*             *\")\n",
    "    elif a==3:\n",
    "        print(\"*  *  *       *\")\n",
    "    elif a==4:\n",
    "        print(\"*         *   *\")\n",
    "    elif a==5:\n",
    "        print(\"  *   *    *    \")\n",
    "    elif a==6:\n",
    "        print(\"             *  *  *\")\n",
    "    a=a+1"
   ]
  },
  {
   "cell_type": "code",
   "execution_count": 18,
   "id": "e923c431",
   "metadata": {},
   "outputs": [
    {
     "name": "stdout",
     "output_type": "stream",
     "text": [
      "*  *  *   *    \n",
      "*           * \n",
      "*  *  *   *    \n",
      "*     *        \n",
      "*         *    \n"
     ]
    }
   ],
   "source": [
    "a=1\n",
    "while a<=5:\n",
    "    if a==1:\n",
    "        print(\"*  *  *   *    \")\n",
    "    elif a==2:\n",
    "        print(\"*           * \")\n",
    "    elif a==3:\n",
    "        print(\"*  *  *   *    \")\n",
    "    elif a==4:\n",
    "        print(\"*     *        \")\n",
    "    elif a==5:\n",
    "        print(\"*         *    \")\n",
    "    a=a+1 "
   ]
  },
  {
   "cell_type": "code",
   "execution_count": 19,
   "id": "c57fa460",
   "metadata": {},
   "outputs": [
    {
     "name": "stdout",
     "output_type": "stream",
     "text": [
      "*  *  *   *  *  \n",
      "*               \n",
      "*  *  *   *   * \n",
      "              * \n",
      "*  *  *   *   * \n"
     ]
    }
   ],
   "source": [
    "a=1\n",
    "while a<=5:\n",
    "    if a==1:\n",
    "        print(\"*  *  *   *  *  \")\n",
    "    elif a==2:\n",
    "        print(\"*               \")\n",
    "    elif a==3:\n",
    "        print(\"*  *  *   *   * \")\n",
    "    elif a==4:\n",
    "        print(\"              * \")\n",
    "    elif a==5:\n",
    "        print(\"*  *  *   *   * \")\n",
    "    a=a+1 "
   ]
  },
  {
   "cell_type": "code",
   "execution_count": 20,
   "id": "c6eae513",
   "metadata": {},
   "outputs": [
    {
     "name": "stdout",
     "output_type": "stream",
     "text": [
      "* * * * *\n",
      "    *    \n",
      "    *    \n",
      "    *    \n",
      "    *    \n"
     ]
    }
   ],
   "source": [
    "a=1\n",
    "while a<=5:\n",
    "    if a==1:\n",
    "        print(\"* * * * *\")\n",
    "    elif a==2:\n",
    "        print(\"    *    \")\n",
    "    elif a==3:\n",
    "        print(\"    *    \")\n",
    "    elif a==4:\n",
    "        print(\"    *    \")\n",
    "    elif a==5:\n",
    "        print(\"    *    \")\n",
    "    a=a+1"
   ]
  },
  {
   "cell_type": "code",
   "execution_count": 21,
   "id": "8c571ee2",
   "metadata": {},
   "outputs": [
    {
     "name": "stdout",
     "output_type": "stream",
     "text": [
      "*            *\n",
      "*            *\n",
      "*            *\n",
      "*            *\n",
      "*  *  *   *  *\n"
     ]
    }
   ],
   "source": [
    "a=1\n",
    "while a<=5:\n",
    "    if a==1:\n",
    "        print(\"*            *\")\n",
    "    elif a==2:\n",
    "        print(\"*            *\")\n",
    "    elif a==3:\n",
    "        print(\"*            *\")\n",
    "    elif a==4:\n",
    "        print(\"*            *\")\n",
    "    elif a==5:\n",
    "        print(\"*  *  *   *  *\")\n",
    "    a=a+1 "
   ]
  },
  {
   "cell_type": "code",
   "execution_count": 22,
   "id": "83d58f48",
   "metadata": {},
   "outputs": [
    {
     "name": "stdout",
     "output_type": "stream",
     "text": [
      "   *        *   \n",
      "    *      *    \n",
      "     *    *     \n",
      "      *  *      \n",
      "        *       \n"
     ]
    }
   ],
   "source": [
    "a=1\n",
    "while a<=5:\n",
    "    if a==1:\n",
    "        print(\"   *        *   \")\n",
    "    elif a==2:\n",
    "        print(\"    *      *    \")\n",
    "    elif a==3: \n",
    "        print(\"     *    *     \")\n",
    "    elif a==4:\n",
    "        print(\"      *  *      \")\n",
    "    elif a==5:\n",
    "        print(\"        *       \")\n",
    "    a=a+1"
   ]
  },
  {
   "cell_type": "code",
   "execution_count": 23,
   "id": "d2de862b",
   "metadata": {},
   "outputs": [
    {
     "name": "stdout",
     "output_type": "stream",
     "text": [
      "*           *\n",
      "*           *\n",
      "*     *     *\n",
      "*   *    *  *\n",
      "*           *\n"
     ]
    }
   ],
   "source": [
    "a=1\n",
    "while a<=5:\n",
    "    if a==1:\n",
    "        print(\"*           *\")\n",
    "    elif a==2:\n",
    "        print(\"*           *\")\n",
    "    elif a==3:\n",
    "        print(\"*     *     *\")\n",
    "    elif a==4:\n",
    "        print(\"*   *    *  *\")\n",
    "    elif a==5:\n",
    "        print(\"*           *\")\n",
    "    a=a+1 "
   ]
  },
  {
   "cell_type": "code",
   "execution_count": 24,
   "id": "c2b80521",
   "metadata": {},
   "outputs": [
    {
     "name": "stdout",
     "output_type": "stream",
     "text": [
      "*          * \n",
      "   *     *   \n",
      "      *      \n",
      "   *    *    \n",
      "*           *\n"
     ]
    }
   ],
   "source": [
    "a=1\n",
    "while a<=5:\n",
    "    if a==1:\n",
    "        print(\"*          * \")\n",
    "    elif a==2:\n",
    "        print(\"   *     *   \")\n",
    "    elif a==3:\n",
    "        print(\"      *      \")\n",
    "    elif a==4:\n",
    "        print(\"   *    *    \")\n",
    "    elif a==5:\n",
    "        print(\"*           *\")\n",
    "    a=a+1 "
   ]
  },
  {
   "cell_type": "code",
   "execution_count": 25,
   "id": "2b58982b",
   "metadata": {},
   "outputs": [
    {
     "name": "stdout",
     "output_type": "stream",
     "text": [
      "*          * \n",
      "   *     *   \n",
      "      *      \n",
      "      *      \n",
      "      *      \n"
     ]
    }
   ],
   "source": [
    "a=1\n",
    "while a<=5:\n",
    "    if a==1:\n",
    "        print(\"*          * \")\n",
    "    elif a==2:\n",
    "        print(\"   *     *   \")\n",
    "    elif a==3:\n",
    "        print(\"      *      \")\n",
    "    elif a==4:\n",
    "        print(\"      *      \")\n",
    "    elif a==5:\n",
    "        print(\"      *      \")\n",
    "    a=a+1"
   ]
  },
  {
   "cell_type": "code",
   "execution_count": 26,
   "id": "bb5465eb",
   "metadata": {},
   "outputs": [
    {
     "name": "stdout",
     "output_type": "stream",
     "text": [
      "  * * * *  \n",
      "       *    \n",
      "      *        \n",
      "    *          \n",
      "  * * * * \n"
     ]
    }
   ],
   "source": [
    "a=1\n",
    "while a<=5:\n",
    "    if a==1:\n",
    "        print(\"  * * * *  \")\n",
    "    elif a==2:\n",
    "        print(\"       *    \")\n",
    "    elif a==3:\n",
    "        print(\"      *        \")\n",
    "    elif a==4:\n",
    "        print(\"    *          \")\n",
    "    elif a==5:\n",
    "        print(\"  * * * * \")\n",
    "    a=a+1 "
   ]
  },
  {
   "cell_type": "code",
   "execution_count": null,
   "id": "5a5e5675",
   "metadata": {},
   "outputs": [],
   "source": []
  }
 ],
 "metadata": {
  "kernelspec": {
   "display_name": "Python 3 (ipykernel)",
   "language": "python",
   "name": "python3"
  },
  "language_info": {
   "codemirror_mode": {
    "name": "ipython",
    "version": 3
   },
   "file_extension": ".py",
   "mimetype": "text/x-python",
   "name": "python",
   "nbconvert_exporter": "python",
   "pygments_lexer": "ipython3",
   "version": "3.9.13"
  }
 },
 "nbformat": 4,
 "nbformat_minor": 5
}
